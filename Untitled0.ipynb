{
  "nbformat": 4,
  "nbformat_minor": 0,
  "metadata": {
    "colab": {
      "provenance": []
    },
    "kernelspec": {
      "name": "python3",
      "display_name": "Python 3"
    },
    "language_info": {
      "name": "python"
    }
  },
  "cells": [
    {
      "cell_type": "code",
      "execution_count": null,
      "metadata": {
        "colab": {
          "base_uri": "https://localhost:8080/"
        },
        "id": "nN0dwerQiSg8",
        "outputId": "a99541ed-095d-4074-f753-a910fb6adaa2"
      },
      "outputs": [
        {
          "output_type": "stream",
          "name": "stdout",
          "text": [
            "Mean\n",
            "Median\n",
            "Mode\n",
            "Enter N or n to exit\n",
            "\tWhich one do you want to compute : 1\n",
            "Please enter a valid function to perform!\n",
            "\n"
          ]
        }
      ],
      "source": [
        "import csv\n",
        "import statistics\n",
        "def mean(Height,Weight):\n",
        "  print(\"Mean Height is\",statistics.mean(Height),\"Inches\")\n",
        "  print(\"Mean Weight is\",statistics.mean(Weight),\"Pounds\\n\")\n",
        "def mode(Height,Weight):\n",
        "  print(\"Mode Height is\",statistics.mode(Height),\"Inches\")\n",
        "  print(\"Mode Weight is\",statistics.mode(Weight),\"Pounds\\n\")\n",
        "def median(Height,Weight):\n",
        "  print(\"Median Height is\",statistics.median(Height),\"Inches\")\n",
        "  print(\"Median Weight is\",statistics.median(Weight),\"Pounds\\n\")\n",
        "Height=[];Weight=[]\n",
        "with open('/content/drive/MyDrive/Nexforce/SOCR-HeightWeight.csv', mode ='r')as file1:\n",
        "  csvFile = csv.reader(file1)\n",
        "  i=0\n",
        "  for lines in csvFile:\n",
        "    if i==0:\n",
        "      i=1\n",
        "      continue\n",
        "    Height.append(float(lines[1]))\n",
        "    Weight.append(float(lines[2]))\n",
        "ch=\"m\"\n",
        "while ch not in \"Nn\":\n",
        "  ch=input(\"Mean\\nMedian\\nMode\\nEnter N or n to exit\\n\\tWhich one do you want to compute : \")\n",
        "  ch=ch.strip(\" \");ch=ch.lower()\n",
        "  if ch[0]==\"n\":\n",
        "    continue\n",
        "  elif ch==\"mode\":\n",
        "    mode(Height,Weight)\n",
        "  elif ch==\"median\":\n",
        "    median(Height,Weight)\n",
        "  elif ch==\"mean\":\n",
        "    mean(Height,Weight)\n",
        "  else:\n",
        "    print(\"Please enter a valid function to perform!\\n\")"
      ]
    }
  ]
}